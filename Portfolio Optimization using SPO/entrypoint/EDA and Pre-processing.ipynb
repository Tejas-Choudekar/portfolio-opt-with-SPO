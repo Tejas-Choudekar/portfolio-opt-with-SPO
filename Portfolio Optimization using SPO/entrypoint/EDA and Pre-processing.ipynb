{
 "cells": [
  {
   "cell_type": "markdown",
   "id": "234ef245",
   "metadata": {},
   "source": [
    "### Importing Libraries"
   ]
  },
  {
   "cell_type": "code",
   "execution_count": null,
   "id": "47cf8f33",
   "metadata": {},
   "outputs": [],
   "source": [
    "import pandas as pd\n",
    "pd.set_option('display.max_columns', None)\n",
    "import numpy as np\n",
    "import math\n",
    "import plotly.express as px\n",
    "import plotly.graph_objects as go\n",
    "import plotly.figure_factory as ff\n",
    "from plotly.subplots import make_subplots\n",
    "import missingno\n",
    "from statsmodels.tsa.stattools import acf, pacf\n",
    "import yaml\n",
    "import os\n",
    "from pathlib import Path"
   ]
  },
  {
   "cell_type": "markdown",
   "id": "6417ca01",
   "metadata": {},
   "source": [
    "### Import modules"
   ]
  },
  {
   "cell_type": "code",
   "execution_count": null,
   "id": "3ad65cef",
   "metadata": {},
   "outputs": [],
   "source": [
    "import sys\n",
    "sys.path.append(\"../src\")\n",
    "\n",
    "import data_exploration as de\n",
    "import model_training as mt"
   ]
  },
  {
   "cell_type": "markdown",
   "id": "e55d26bb",
   "metadata": {},
   "source": [
    "### Load necessary directories"
   ]
  },
  {
   "cell_type": "code",
   "execution_count": null,
   "id": "3f2fdc21",
   "metadata": {},
   "outputs": [],
   "source": [
    "current_dir = Path(os.getcwd())\n",
    "root_dir = current_dir\n",
    "while 'Portfolio Optimization using SPO' in root_dir.parts:\n",
    "    root_dir = root_dir.parent\n",
    "    if root_dir == Path(root_dir.root):\n",
    "        print(\"Root directory not found.\")\n",
    "        break"
   ]
  },
  {
   "cell_type": "code",
   "execution_count": null,
   "id": "bb258175",
   "metadata": {},
   "outputs": [],
   "source": [
    "config_path = root_dir / \"Portfolio Optimization using SPO\" / \"config\" / \"config.yml\"\n",
    "data_path = root_dir / \"Portfolio Optimization using SPO\" / \"data\" / \"dat_518_companies.csv\""
   ]
  },
  {
   "cell_type": "code",
   "execution_count": null,
   "id": "4f5a4139",
   "metadata": {},
   "outputs": [],
   "source": [
    "with open(config_path, 'r') as file:\n",
    "    config = yaml.safe_load(file)"
   ]
  },
  {
   "cell_type": "markdown",
   "id": "983810e3",
   "metadata": {},
   "source": [
    "### Import data"
   ]
  },
  {
   "cell_type": "code",
   "execution_count": null,
   "id": "ccd8dc60",
   "metadata": {},
   "outputs": [],
   "source": [
    "df_original = pd.read_csv(data_path)\n",
    "df_original.head()"
   ]
  },
  {
   "cell_type": "code",
   "execution_count": null,
   "id": "013071ac",
   "metadata": {},
   "outputs": [],
   "source": [
    "df_original.describe()"
   ]
  },
  {
   "cell_type": "code",
   "execution_count": null,
   "id": "2d226e4d",
   "metadata": {},
   "outputs": [],
   "source": [
    "print(f'Data has {len(df_original.ticker.unique())} unique securities')\n",
    "print(f'Data has {len(df_original.sector.unique())} unique sectors')\n",
    "print(f'Data has {len(df_original.industry.unique())} unique industries')"
   ]
  },
  {
   "cell_type": "markdown",
   "id": "c60450b9",
   "metadata": {},
   "source": [
    "### Check for missing data"
   ]
  },
  {
   "cell_type": "code",
   "execution_count": null,
   "id": "fc37130d",
   "metadata": {},
   "outputs": [],
   "source": [
    "missingno.matrix(df_original,figsize=(10,10), fontsize=12)"
   ]
  },
  {
   "cell_type": "markdown",
   "id": "656015fe",
   "metadata": {},
   "source": [
    "We can see sentiment has lot of missing values"
   ]
  },
  {
   "cell_type": "markdown",
   "id": "ce8dbc16",
   "metadata": {},
   "source": [
    "### Check the consistency of data for each security"
   ]
  },
  {
   "cell_type": "code",
   "execution_count": null,
   "id": "6e25050f",
   "metadata": {},
   "outputs": [],
   "source": [
    "fig = px.line(df_original, x=\"date\", y=\"return_t_plus_1\", color='ticker')\n",
    "fig.show()"
   ]
  },
  {
   "cell_type": "markdown",
   "id": "90c0c32e",
   "metadata": {},
   "source": [
    "Not all the securities have same staring and ending date, so select a target ticker and other 5 securities having same start and end date. The securities \"AAPL\", \"ABMD\", \"ADBE\", \"ADI\", \"ADP\" has same start and end date, and belong to different sector-industry combination."
   ]
  },
  {
   "cell_type": "markdown",
   "id": "66fd9bf1",
   "metadata": {},
   "source": [
    "### Segregate target ticker for EDA"
   ]
  },
  {
   "cell_type": "code",
   "execution_count": null,
   "id": "9edd39dd",
   "metadata": {},
   "outputs": [],
   "source": [
    "# Select 5 tickers having same number of datapoints with same start and end date\n",
    "df_ticker_target = df_original[df_original['ticker'] == config['target_ticker']]\n",
    "\n",
    "# Drop default index\n",
    "df_ticker_target.drop(['Unnamed: 0'], axis=1 , inplace = True)\n",
    "\n",
    "# Reset index\n",
    "df_ticker_target.reset_index(inplace = True)"
   ]
  },
  {
   "cell_type": "code",
   "execution_count": null,
   "id": "483d434e",
   "metadata": {},
   "outputs": [],
   "source": [
    "missingno.matrix(df_ticker_target,figsize=(10,10), fontsize=12)"
   ]
  },
  {
   "cell_type": "markdown",
   "id": "f0a48c52",
   "metadata": {},
   "source": [
    "Only sentiment has missing values so calculate the percentage of missing values from that column"
   ]
  },
  {
   "cell_type": "code",
   "execution_count": null,
   "id": "34b9e7c6",
   "metadata": {},
   "outputs": [],
   "source": [
    "percent_missing = df_ticker_target[\"sentiment\"].isna().sum()/1043\n",
    "print(f'The sentiment has {percent_missing * 100}% values missing')"
   ]
  },
  {
   "cell_type": "markdown",
   "id": "16839bc5",
   "metadata": {},
   "source": [
    "So dropping it and also dropping categorical features is the next step"
   ]
  },
  {
   "cell_type": "markdown",
   "id": "353c1ad0",
   "metadata": {},
   "source": [
    "### Select numerical feature and features with no missing data"
   ]
  },
  {
   "cell_type": "code",
   "execution_count": null,
   "id": "2942bb08",
   "metadata": {},
   "outputs": [],
   "source": [
    "df_ticker_target_numerical_features = df_ticker_target[config['numerical_features']]"
   ]
  },
  {
   "cell_type": "code",
   "execution_count": null,
   "id": "7890fafb",
   "metadata": {},
   "outputs": [],
   "source": [
    "# save for future use\n",
    "AAPL_df_path = root_dir / \"Portfolio Optimization using SPO\" / \"data\" / \"AAPL_df.csv\"    \n",
    "df_ticker_target_numerical_features.to_csv(AAPL_df_path, index = False)"
   ]
  },
  {
   "cell_type": "code",
   "execution_count": null,
   "id": "ae603c98",
   "metadata": {},
   "outputs": [],
   "source": [
    "de.plot_corr_plots(df_ticker_target_numerical_features)"
   ]
  },
  {
   "cell_type": "markdown",
   "id": "7cd69131",
   "metadata": {},
   "source": [
    "We can see the many features are correlated with each other lets see how many features have correlation more than 70%"
   ]
  },
  {
   "cell_type": "markdown",
   "id": "97a13c73",
   "metadata": {},
   "source": [
    "### Identify highly correlated features"
   ]
  },
  {
   "cell_type": "code",
   "execution_count": null,
   "id": "9dfb57c4",
   "metadata": {},
   "outputs": [],
   "source": [
    "correlated_feats = de.identify_correlated(df_ticker_target_numerical_features, threshold=0.7)\n",
    "correlated_feats"
   ]
  },
  {
   "cell_type": "markdown",
   "id": "2323f79b",
   "metadata": {},
   "source": [
    "These features have more than 70% correlation"
   ]
  },
  {
   "cell_type": "markdown",
   "id": "ba55e20b",
   "metadata": {},
   "source": [
    "### Plot distribution for each feature"
   ]
  },
  {
   "cell_type": "code",
   "execution_count": null,
   "id": "716c9f66",
   "metadata": {},
   "outputs": [],
   "source": [
    "numerical_cols = df_ticker_target_numerical_features.columns\n",
    "\n",
    "for column in numerical_cols:\n",
    "    de.plot_histograms(df_ticker_AAPL_numerical_features, column)"
   ]
  },
  {
   "cell_type": "markdown",
   "id": "751e96d5",
   "metadata": {},
   "source": [
    "## Pre-processing the dataset"
   ]
  },
  {
   "cell_type": "markdown",
   "id": "397029f8",
   "metadata": {},
   "source": [
    "### Creating cost matrix"
   ]
  },
  {
   "cell_type": "code",
   "execution_count": null,
   "id": "f8d11285",
   "metadata": {},
   "outputs": [],
   "source": [
    "# Select 5 tickers having same number of datapoints with same start and end date\n",
    "df_ticker_0 = df_original[df_original['ticker'] == config[\"other_securities\"][0]]\n",
    "df_ticker_1 = df_original[df_original['ticker'] == config[\"other_securities\"][1]]\n",
    "df_ticker_2 = df_original[df_original['ticker'] == config[\"other_securities\"][2]]\n",
    "df_ticker_3 = df_original[df_original['ticker'] == config[\"other_securities\"][3]]\n",
    "\n",
    "# Drop default index\n",
    "df_ticker_0.drop(['Unnamed: 0'], axis=1 , inplace = True)\n",
    "df_ticker_1.drop(['Unnamed: 0'], axis=1 , inplace = True)\n",
    "df_ticker_2.drop(['Unnamed: 0'], axis=1 , inplace = True)\n",
    "df_ticker_3.drop(['Unnamed: 0'], axis=1 , inplace = True)\n",
    "\n",
    "# Reset index\n",
    "df_ticker_target.reset_index(inplace = True)\n",
    "df_ticker_0.reset_index(inplace = True)\n",
    "df_ticker_1.reset_index(inplace = True)\n",
    "df_ticker_2.reset_index(inplace = True)\n",
    "df_ticker_3.reset_index(inplace = True)\n",
    "\n",
    "# Create a new dataframe with t+1 returns of above 5 tickers\n",
    "df_final_returns = pd.DataFrame()\n",
    "df_final_returns[config[\"target_ticker\"]] = df_ticker_target.return_t_plus_1\n",
    "df_final_returns[config[\"other_securities\"][0]] = df_ticker_0.return_t_plus_1\n",
    "df_final_returns[config[\"other_securities\"][1]] = df_ticker_1.return_t_plus_1\n",
    "df_final_returns[config[\"other_securities\"][2]] = df_ticker_2.return_t_plus_1\n",
    "df_final_returns[config[\"other_securities\"][3]] = df_ticker_3.return_t_plus_1\n",
    "\n",
    "# Preview the dataframe\n",
    "df_final_returns.head()"
   ]
  },
  {
   "cell_type": "code",
   "execution_count": null,
   "id": "30d2fae6",
   "metadata": {},
   "outputs": [],
   "source": [
    "# save for future use\n",
    "cost_mat_path = root_dir / \"Portfolio Optimization using SPO\" / \"data\" / \"cost_mat.csv\"    \n",
    "df_final_returns.to_csv(cost_mat_path, index = False)"
   ]
  },
  {
   "cell_type": "markdown",
   "id": "941b2823",
   "metadata": {},
   "source": [
    "### Create covariance matrix"
   ]
  },
  {
   "cell_type": "code",
   "execution_count": null,
   "id": "91ba1f42",
   "metadata": {},
   "outputs": [],
   "source": [
    "# covatiance matrix calculation\n",
    "df_returns_transpose = np.transpose(df_final_returns)\n",
    "sigma = np.cov(df_returns_transpose)\n",
    "sigma_df = pd.DataFrame(sigma)\n",
    "sigma_df"
   ]
  },
  {
   "cell_type": "code",
   "execution_count": null,
   "id": "743451cb",
   "metadata": {},
   "outputs": [],
   "source": [
    "# save for future use\n",
    "sigma_path = root_dir / \"Portfolio Optimization using SPO\" / \"data\" / \"sigma_df.csv\"    \n",
    "sigma_df.to_csv(sigma_path, index = False)"
   ]
  },
  {
   "cell_type": "markdown",
   "id": "7ef94198",
   "metadata": {},
   "source": [
    "### Calculate $\\gamma$ (risk factor)"
   ]
  },
  {
   "cell_type": "code",
   "execution_count": null,
   "id": "a833d7e1",
   "metadata": {},
   "outputs": [],
   "source": [
    "# risk factor calculation\n",
    "avg_vec = np.ones(5)/5\n",
    "gamma = np.transpose(avg_vec)@sigma@avg_vec\n",
    "gamma = 2.25*gamma\n",
    "print(gamma)"
   ]
  },
  {
   "cell_type": "markdown",
   "id": "c03be7c2",
   "metadata": {},
   "source": [
    "Note: write this gamma in the config file if not already there otherwise the optimization will be calculated with wrong gamma. Or there will be an error."
   ]
  }
 ],
 "metadata": {
  "kernelspec": {
   "display_name": "Python 3 (ipykernel)",
   "language": "python",
   "name": "python3"
  },
  "language_info": {
   "codemirror_mode": {
    "name": "ipython",
    "version": 3
   },
   "file_extension": ".py",
   "mimetype": "text/x-python",
   "name": "python",
   "nbconvert_exporter": "python",
   "pygments_lexer": "ipython3",
   "version": "3.11.3"
  }
 },
 "nbformat": 4,
 "nbformat_minor": 5
}
