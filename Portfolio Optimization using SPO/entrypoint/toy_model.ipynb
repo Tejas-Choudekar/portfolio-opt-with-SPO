{
 "cells": [
  {
   "cell_type": "markdown",
   "id": "6988760c",
   "metadata": {},
   "source": [
    "### Import Libraries"
   ]
  },
  {
   "cell_type": "code",
   "execution_count": null,
   "id": "f7d64e51",
   "metadata": {},
   "outputs": [],
   "source": [
    "import pandas as pd\n",
    "pd.set_option('display.max_columns', None)\n",
    "import numpy as np\n",
    "import os\n",
    "import itertools\n",
    "import math\n",
    "import plotly.express as px\n",
    "import plotly.graph_objects as go\n",
    "import plotly.figure_factory as ff\n",
    "from plotly.subplots import make_subplots\n",
    "import random\n",
    "import gurobipy as gp\n",
    "from gurobipy import GRB\n",
    "import tensorflow as tf\n",
    "from tensorflow.keras import initializers\n",
    "import sklearn\n",
    "from sklearn.model_selection import train_test_split\n",
    "from sklearn.feature_selection import SelectKBest\n",
    "from sklearn.feature_selection import mutual_info_regression\n",
    "import yaml\n",
    "from pathlib import Path"
   ]
  },
  {
   "cell_type": "markdown",
   "id": "269e1e43",
   "metadata": {},
   "source": [
    "### Import modules"
   ]
  },
  {
   "cell_type": "code",
   "execution_count": null,
   "id": "463be860",
   "metadata": {},
   "outputs": [],
   "source": [
    "import sys\n",
    "sys.path.append(\"../src\")\n",
    "\n",
    "import data_exploration as de\n",
    "import model_training as mt"
   ]
  },
  {
   "cell_type": "markdown",
   "id": "70509813",
   "metadata": {},
   "source": [
    "### Load necessary directories"
   ]
  },
  {
   "cell_type": "code",
   "execution_count": null,
   "id": "c9a35f25",
   "metadata": {},
   "outputs": [],
   "source": [
    "current_dir = Path(os.getcwd())\n",
    "root_dir = current_dir\n",
    "while 'Portfolio Optimization using SPO' in root_dir.parts:\n",
    "    root_dir = root_dir.parent\n",
    "    if root_dir == Path(root_dir.root):\n",
    "        print(\"Root directory not found.\")\n",
    "        break"
   ]
  },
  {
   "cell_type": "code",
   "execution_count": null,
   "id": "be5fe302",
   "metadata": {},
   "outputs": [],
   "source": [
    "config_path = root_dir / \"Portfolio Optimization using SPO\" / \"config\" / \"config.yml\"\n",
    "complete_data_path = root_dir / \"Portfolio Optimization using SPO\" / \"data\" / \"dat_518_companies.csv\"\n",
    "toy_data_path = root_dir / \"Portfolio Optimization using SPO\" / \"data\" / \"AAPL_toy.csv\"\n",
    "toy_cost_mat_path = root_dir / \"Portfolio Optimization using SPO\" / \"data\" / \"cost_vec_toy.csv\""
   ]
  },
  {
   "cell_type": "code",
   "execution_count": null,
   "id": "4bdcf85c",
   "metadata": {},
   "outputs": [],
   "source": [
    "with open(config_path, 'r') as file:\n",
    "    config = yaml.safe_load(file)"
   ]
  },
  {
   "cell_type": "markdown",
   "id": "a0bc22cb",
   "metadata": {},
   "source": [
    "### Import data"
   ]
  },
  {
   "cell_type": "code",
   "execution_count": null,
   "id": "2ceeb14b",
   "metadata": {},
   "outputs": [],
   "source": [
    "# import data\n",
    "df_toy_original = pd.read_csv(toy_data_path)\n",
    "df_toy_final_returns = pd.read_csv(toy_cost_mat_path)"
   ]
  },
  {
   "cell_type": "markdown",
   "id": "55acb023",
   "metadata": {},
   "source": [
    "### Calculate covariance matrix ($\\Sigma$) and risk factor ($\\gamma$)"
   ]
  },
  {
   "cell_type": "code",
   "execution_count": null,
   "id": "0c047b01",
   "metadata": {},
   "outputs": [],
   "source": [
    "# covatiance matrix calculation\n",
    "df_toy_returns_transpose = np.transpose(df_toy_final_returns)\n",
    "toy_sigma = np.cov(df_toy_returns_transpose)\n",
    "toy_sigma_df = pd.DataFrame(toy_sigma)\n",
    "toy_sigma_df"
   ]
  },
  {
   "cell_type": "code",
   "execution_count": null,
   "id": "d482ef0d",
   "metadata": {},
   "outputs": [],
   "source": [
    "# risk factor calculation\n",
    "toy_avg_vec = np.ones(2)/2\n",
    "toy_gamma = np.transpose(toy_avg_vec)@toy_sigma@toy_avg_vec\n",
    "toy_gamma = 2.25*toy_gamma\n",
    "print(toy_gamma)"
   ]
  },
  {
   "cell_type": "markdown",
   "id": "6124448b",
   "metadata": {},
   "source": [
    "### Initialize the model"
   ]
  },
  {
   "cell_type": "code",
   "execution_count": null,
   "id": "b95c1ef6",
   "metadata": {},
   "outputs": [],
   "source": [
    "toy_n_rows, toy_n_cols = df_toy_original.shape\n",
    "toy_n_feats = toy_n_cols-1\n",
    "\n",
    "# Instantiate the model\n",
    "model_toy_data = mt.get_model(n_feats = toy_n_feats)\n",
    "model_toy_data.summary()"
   ]
  },
  {
   "cell_type": "markdown",
   "id": "da7ee31c",
   "metadata": {},
   "source": [
    "### Split data into train and test"
   ]
  },
  {
   "cell_type": "code",
   "execution_count": null,
   "id": "fef2493c",
   "metadata": {},
   "outputs": [],
   "source": [
    "# training dataframe\n",
    "df_toy_original_train, df_toy_original_test = train_test_split(df_toy_original, test_size=0.2, \n",
    "                                                               random_state=42, shuffle=False)\n",
    "# cost vector\n",
    "df_toy_final_returns_train, df_toy_final_returns_test = train_test_split(df_toy_final_returns, test_size=0.2, \n",
    "                                                                         random_state=42, shuffle=False)"
   ]
  },
  {
   "cell_type": "code",
   "execution_count": null,
   "id": "974192f8",
   "metadata": {},
   "outputs": [],
   "source": [
    "%%time\n",
    "# Grid Search to find best hyper-parameters\n",
    "\n",
    "# Parameters\n",
    "grid_search_params = config[\"toy_grid_params\"]\n",
    "\n",
    "# Searching Best Parameters\n",
    "results, best_params, error = mt.grid_search(df_toy_original, df_toy_final_returns, sigma=toy_sigma, gamma=toy_gamma, n_epoch=20, GridSearchParams=grid_search_params)\n",
    "\n",
    "# Print results\n",
    "print(\"Results:\")\n",
    "for res in results:\n",
    "    print(res)\n",
    "\n",
    "print(\"Best Parameters:\", best_params)\n",
    "print(\"Error:\", error)"
   ]
  },
  {
   "cell_type": "code",
   "execution_count": null,
   "id": "7f20e873",
   "metadata": {},
   "outputs": [],
   "source": [
    "# Train the model with best hyper-parameters\n",
    "trained_toy_model, epoch_toy_loss_list = mt.SGD_regressor(df_toy_original, model_toy_data, df_toy_final_returns, toy_sigma, toy_gamma, learning_rate= 0.001, decay_rate=1.02, n_epochs=20, batch_size = 4)"
   ]
  },
  {
   "cell_type": "markdown",
   "id": "255cfab4",
   "metadata": {},
   "source": [
    "### Plot loss progression with every epoch"
   ]
  },
  {
   "cell_type": "code",
   "execution_count": null,
   "id": "d317fd86",
   "metadata": {},
   "outputs": [],
   "source": [
    "fig_toy = px.line(epoch_toy_loss_list).update_layout(title=\"Training Loss progression\", xaxis_title=\"epochs\", yaxis_title=\"SPO+ loss\",legend={\n",
    "            \"title\": \"Loss Value\"})\n",
    "fig_toy.show()"
   ]
  },
  {
   "cell_type": "markdown",
   "id": "960d8f32",
   "metadata": {},
   "source": [
    "### Testing the model on test data"
   ]
  },
  {
   "cell_type": "code",
   "execution_count": null,
   "id": "0bdbd7dd",
   "metadata": {},
   "outputs": [],
   "source": [
    "y_pred_toy = trained_toy_model(df_toy_original_test.iloc[:,0:toy_n_feats].values)\n",
    "toy_spo_test_loss = mt.get_SPO_plus_testing_loss(df_toy_original, df_toy_final_returns_test, \n",
    "                                                 y_pred_toy, sigma=toy_sigma, gamma=toy_gamma)\n",
    "\n",
    "print(f'The SPO+ loss on testing data for toy problem is {toy_spo_test_loss}')"
   ]
  },
  {
   "cell_type": "code",
   "execution_count": null,
   "id": "d4f47f95",
   "metadata": {},
   "outputs": [],
   "source": [
    "# Save the entire model as a `.keras` zip archive.\n",
    "model_save_path = root_dir / \"Portfolio Optimization using SPO\" / \"models\" / \"trained_toy_model.keras\"\n",
    "trained_toy_model.compile()\n",
    "trained_toy_model.save(model_save_path, save_format='tf')"
   ]
  },
  {
   "cell_type": "markdown",
   "id": "e096c4a0",
   "metadata": {},
   "source": [
    "To load the model and test use below command\n",
    "\n",
    "```\n",
    "new_model = tf.keras.models.load_model(model_save_path)\n",
    "```"
   ]
  },
  {
   "cell_type": "code",
   "execution_count": null,
   "id": "b605ed9e",
   "metadata": {},
   "outputs": [],
   "source": []
  }
 ],
 "metadata": {
  "kernelspec": {
   "display_name": "Python 3 (ipykernel)",
   "language": "python",
   "name": "python3"
  },
  "language_info": {
   "codemirror_mode": {
    "name": "ipython",
    "version": 3
   },
   "file_extension": ".py",
   "mimetype": "text/x-python",
   "name": "python",
   "nbconvert_exporter": "python",
   "pygments_lexer": "ipython3",
   "version": "3.11.3"
  }
 },
 "nbformat": 4,
 "nbformat_minor": 5
}
